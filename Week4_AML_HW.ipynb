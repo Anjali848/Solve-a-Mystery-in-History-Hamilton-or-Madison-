{
 "cells": [
  {
   "cell_type": "markdown",
   "id": "bbb870c8",
   "metadata": {},
   "source": [
    "# HW4: Use Clustering to Solve a Mystery in History\n",
    "\n",
    "Anjali Shahi"
   ]
  },
  {
   "cell_type": "markdown",
   "id": "4443db87",
   "metadata": {},
   "source": [
    "## Loading the requied packages"
   ]
  },
  {
   "cell_type": "code",
   "execution_count": 1,
   "id": "4e5449e7",
   "metadata": {},
   "outputs": [],
   "source": [
    "import sys\n",
    "\n",
    "import sklearn\n",
    "import pandas as pd\n",
    "#!pip install nbconvert\n",
    "import numpy as np\n",
    "import os\n",
    "import matplotlib.pyplot as plt\n",
    "from scipy.spatial import distance_matrix\n",
    "from sklearn.preprocessing import StandardScaler\n",
    "import nbconvert\n",
    "#!pip install plotly\n",
    "import plotly.graph_objects as go\n",
    "#!pip install pyppeteer\n",
    "from sklearn.cluster import KMeans\n"
   ]
  },
  {
   "cell_type": "markdown",
   "id": "4bdf3509",
   "metadata": {},
   "source": [
    "## Data Exploration"
   ]
  },
  {
   "cell_type": "code",
   "execution_count": 5,
   "id": "0f564f67",
   "metadata": {},
   "outputs": [
    {
     "data": {
      "text/html": [
       "<div>\n",
       "<style scoped>\n",
       "    .dataframe tbody tr th:only-of-type {\n",
       "        vertical-align: middle;\n",
       "    }\n",
       "\n",
       "    .dataframe tbody tr th {\n",
       "        vertical-align: top;\n",
       "    }\n",
       "\n",
       "    .dataframe thead th {\n",
       "        text-align: right;\n",
       "    }\n",
       "</style>\n",
       "<table border=\"1\" class=\"dataframe\">\n",
       "  <thead>\n",
       "    <tr style=\"text-align: right;\">\n",
       "      <th></th>\n",
       "      <th>author</th>\n",
       "      <th>filename</th>\n",
       "      <th>a</th>\n",
       "      <th>all</th>\n",
       "      <th>also</th>\n",
       "      <th>an</th>\n",
       "      <th>and</th>\n",
       "      <th>any</th>\n",
       "      <th>are</th>\n",
       "      <th>as</th>\n",
       "      <th>...</th>\n",
       "      <th>was</th>\n",
       "      <th>were</th>\n",
       "      <th>what</th>\n",
       "      <th>when</th>\n",
       "      <th>which</th>\n",
       "      <th>who</th>\n",
       "      <th>will</th>\n",
       "      <th>with</th>\n",
       "      <th>would</th>\n",
       "      <th>your</th>\n",
       "    </tr>\n",
       "  </thead>\n",
       "  <tbody>\n",
       "    <tr>\n",
       "      <th>0</th>\n",
       "      <td>dispt</td>\n",
       "      <td>dispt_fed_49.txt</td>\n",
       "      <td>0.280</td>\n",
       "      <td>0.052</td>\n",
       "      <td>0.009</td>\n",
       "      <td>0.096</td>\n",
       "      <td>0.358</td>\n",
       "      <td>0.026</td>\n",
       "      <td>0.131</td>\n",
       "      <td>0.122</td>\n",
       "      <td>...</td>\n",
       "      <td>0.009</td>\n",
       "      <td>0.017</td>\n",
       "      <td>0.000</td>\n",
       "      <td>0.009</td>\n",
       "      <td>0.175</td>\n",
       "      <td>0.044</td>\n",
       "      <td>0.009</td>\n",
       "      <td>0.087</td>\n",
       "      <td>0.192</td>\n",
       "      <td>0.0</td>\n",
       "    </tr>\n",
       "    <tr>\n",
       "      <th>1</th>\n",
       "      <td>dispt</td>\n",
       "      <td>dispt_fed_50.txt</td>\n",
       "      <td>0.177</td>\n",
       "      <td>0.063</td>\n",
       "      <td>0.013</td>\n",
       "      <td>0.038</td>\n",
       "      <td>0.393</td>\n",
       "      <td>0.063</td>\n",
       "      <td>0.051</td>\n",
       "      <td>0.139</td>\n",
       "      <td>...</td>\n",
       "      <td>0.051</td>\n",
       "      <td>0.000</td>\n",
       "      <td>0.000</td>\n",
       "      <td>0.000</td>\n",
       "      <td>0.114</td>\n",
       "      <td>0.038</td>\n",
       "      <td>0.089</td>\n",
       "      <td>0.063</td>\n",
       "      <td>0.139</td>\n",
       "      <td>0.0</td>\n",
       "    </tr>\n",
       "    <tr>\n",
       "      <th>2</th>\n",
       "      <td>dispt</td>\n",
       "      <td>dispt_fed_51.txt</td>\n",
       "      <td>0.339</td>\n",
       "      <td>0.090</td>\n",
       "      <td>0.008</td>\n",
       "      <td>0.030</td>\n",
       "      <td>0.301</td>\n",
       "      <td>0.008</td>\n",
       "      <td>0.068</td>\n",
       "      <td>0.203</td>\n",
       "      <td>...</td>\n",
       "      <td>0.008</td>\n",
       "      <td>0.015</td>\n",
       "      <td>0.008</td>\n",
       "      <td>0.000</td>\n",
       "      <td>0.105</td>\n",
       "      <td>0.008</td>\n",
       "      <td>0.173</td>\n",
       "      <td>0.045</td>\n",
       "      <td>0.068</td>\n",
       "      <td>0.0</td>\n",
       "    </tr>\n",
       "    <tr>\n",
       "      <th>3</th>\n",
       "      <td>dispt</td>\n",
       "      <td>dispt_fed_52.txt</td>\n",
       "      <td>0.270</td>\n",
       "      <td>0.024</td>\n",
       "      <td>0.016</td>\n",
       "      <td>0.024</td>\n",
       "      <td>0.262</td>\n",
       "      <td>0.056</td>\n",
       "      <td>0.064</td>\n",
       "      <td>0.111</td>\n",
       "      <td>...</td>\n",
       "      <td>0.087</td>\n",
       "      <td>0.079</td>\n",
       "      <td>0.008</td>\n",
       "      <td>0.024</td>\n",
       "      <td>0.167</td>\n",
       "      <td>0.000</td>\n",
       "      <td>0.079</td>\n",
       "      <td>0.079</td>\n",
       "      <td>0.064</td>\n",
       "      <td>0.0</td>\n",
       "    </tr>\n",
       "    <tr>\n",
       "      <th>4</th>\n",
       "      <td>dispt</td>\n",
       "      <td>dispt_fed_53.txt</td>\n",
       "      <td>0.303</td>\n",
       "      <td>0.054</td>\n",
       "      <td>0.027</td>\n",
       "      <td>0.034</td>\n",
       "      <td>0.404</td>\n",
       "      <td>0.040</td>\n",
       "      <td>0.128</td>\n",
       "      <td>0.148</td>\n",
       "      <td>...</td>\n",
       "      <td>0.027</td>\n",
       "      <td>0.020</td>\n",
       "      <td>0.020</td>\n",
       "      <td>0.007</td>\n",
       "      <td>0.155</td>\n",
       "      <td>0.027</td>\n",
       "      <td>0.168</td>\n",
       "      <td>0.074</td>\n",
       "      <td>0.040</td>\n",
       "      <td>0.0</td>\n",
       "    </tr>\n",
       "  </tbody>\n",
       "</table>\n",
       "<p>5 rows × 72 columns</p>\n",
       "</div>"
      ],
      "text/plain": [
       "  author          filename      a    all   also     an    and    any    are  \\\n",
       "0  dispt  dispt_fed_49.txt  0.280  0.052  0.009  0.096  0.358  0.026  0.131   \n",
       "1  dispt  dispt_fed_50.txt  0.177  0.063  0.013  0.038  0.393  0.063  0.051   \n",
       "2  dispt  dispt_fed_51.txt  0.339  0.090  0.008  0.030  0.301  0.008  0.068   \n",
       "3  dispt  dispt_fed_52.txt  0.270  0.024  0.016  0.024  0.262  0.056  0.064   \n",
       "4  dispt  dispt_fed_53.txt  0.303  0.054  0.027  0.034  0.404  0.040  0.128   \n",
       "\n",
       "      as  ...    was   were   what   when  which    who   will   with  would  \\\n",
       "0  0.122  ...  0.009  0.017  0.000  0.009  0.175  0.044  0.009  0.087  0.192   \n",
       "1  0.139  ...  0.051  0.000  0.000  0.000  0.114  0.038  0.089  0.063  0.139   \n",
       "2  0.203  ...  0.008  0.015  0.008  0.000  0.105  0.008  0.173  0.045  0.068   \n",
       "3  0.111  ...  0.087  0.079  0.008  0.024  0.167  0.000  0.079  0.079  0.064   \n",
       "4  0.148  ...  0.027  0.020  0.020  0.007  0.155  0.027  0.168  0.074  0.040   \n",
       "\n",
       "   your  \n",
       "0   0.0  \n",
       "1   0.0  \n",
       "2   0.0  \n",
       "3   0.0  \n",
       "4   0.0  \n",
       "\n",
       "[5 rows x 72 columns]"
      ]
     },
     "execution_count": 5,
     "metadata": {},
     "output_type": "execute_result"
    }
   ],
   "source": [
    "data = pd.read_csv('HW4-data-fedPapers85.csv')\n",
    "data.head()"
   ]
  },
  {
   "cell_type": "code",
   "execution_count": 6,
   "id": "0fea3ca9",
   "metadata": {},
   "outputs": [
    {
     "data": {
      "text/plain": [
       "(85, 72)"
      ]
     },
     "execution_count": 6,
     "metadata": {},
     "output_type": "execute_result"
    }
   ],
   "source": [
    "data.shape"
   ]
  },
  {
   "cell_type": "markdown",
   "id": "3549d06c",
   "metadata": {},
   "source": [
    "Data has 85 rows and 72 columns\n",
    "The attributes are author and filename along with feature value of all words in the documents\n",
    "Feature value is the number of occurences of a word divided by the total number of words"
   ]
  },
  {
   "cell_type": "code",
   "execution_count": 7,
   "id": "d899ec32",
   "metadata": {},
   "outputs": [
    {
     "data": {
      "text/plain": [
       "author      0\n",
       "filename    0\n",
       "a           0\n",
       "all         0\n",
       "also        0\n",
       "           ..\n",
       "who         0\n",
       "will        0\n",
       "with        0\n",
       "would       0\n",
       "your        0\n",
       "Length: 72, dtype: int64"
      ]
     },
     "execution_count": 7,
     "metadata": {},
     "output_type": "execute_result"
    }
   ],
   "source": [
    "#Check for missing values\n",
    "data.isna().sum()"
   ]
  },
  {
   "cell_type": "code",
   "execution_count": 8,
   "id": "7dcc0b30",
   "metadata": {},
   "outputs": [
    {
     "data": {
      "text/plain": [
       "array(['dispt', 'Hamilton', 'HM', 'Jay', 'Madison'], dtype=object)"
      ]
     },
     "execution_count": 8,
     "metadata": {},
     "output_type": "execute_result"
    }
   ],
   "source": [
    "data.author.unique()\n"
   ]
  },
  {
   "cell_type": "markdown",
   "id": "c01df0b0",
   "metadata": {},
   "source": [
    "There are 4 authors in total and the files with dispt authors are the target data which we need to find out if \n",
    "they were authored by Hamilton or Madison"
   ]
  },
  {
   "cell_type": "code",
   "execution_count": 9,
   "id": "ad3e4f40",
   "metadata": {},
   "outputs": [
    {
     "data": {
      "text/html": [
       "<div>\n",
       "<style scoped>\n",
       "    .dataframe tbody tr th:only-of-type {\n",
       "        vertical-align: middle;\n",
       "    }\n",
       "\n",
       "    .dataframe tbody tr th {\n",
       "        vertical-align: top;\n",
       "    }\n",
       "\n",
       "    .dataframe thead th {\n",
       "        text-align: right;\n",
       "    }\n",
       "</style>\n",
       "<table border=\"1\" class=\"dataframe\">\n",
       "  <thead>\n",
       "    <tr style=\"text-align: right;\">\n",
       "      <th></th>\n",
       "      <th>author</th>\n",
       "      <th>filename</th>\n",
       "      <th>a</th>\n",
       "      <th>all</th>\n",
       "      <th>also</th>\n",
       "      <th>an</th>\n",
       "      <th>and</th>\n",
       "      <th>any</th>\n",
       "      <th>are</th>\n",
       "      <th>as</th>\n",
       "      <th>...</th>\n",
       "      <th>was</th>\n",
       "      <th>were</th>\n",
       "      <th>what</th>\n",
       "      <th>when</th>\n",
       "      <th>which</th>\n",
       "      <th>who</th>\n",
       "      <th>will</th>\n",
       "      <th>with</th>\n",
       "      <th>would</th>\n",
       "      <th>your</th>\n",
       "    </tr>\n",
       "  </thead>\n",
       "  <tbody>\n",
       "    <tr>\n",
       "      <th>11</th>\n",
       "      <td>Hamilton</td>\n",
       "      <td>Hamilton_fed_1.txt</td>\n",
       "      <td>0.213</td>\n",
       "      <td>0.083</td>\n",
       "      <td>0.000</td>\n",
       "      <td>0.083</td>\n",
       "      <td>0.343</td>\n",
       "      <td>0.056</td>\n",
       "      <td>0.111</td>\n",
       "      <td>0.093</td>\n",
       "      <td>...</td>\n",
       "      <td>0.000</td>\n",
       "      <td>0.000</td>\n",
       "      <td>0.000</td>\n",
       "      <td>0.009</td>\n",
       "      <td>0.158</td>\n",
       "      <td>0.074</td>\n",
       "      <td>0.222</td>\n",
       "      <td>0.046</td>\n",
       "      <td>0.019</td>\n",
       "      <td>0.074</td>\n",
       "    </tr>\n",
       "    <tr>\n",
       "      <th>12</th>\n",
       "      <td>Hamilton</td>\n",
       "      <td>Hamilton_fed_11.txt</td>\n",
       "      <td>0.369</td>\n",
       "      <td>0.070</td>\n",
       "      <td>0.006</td>\n",
       "      <td>0.076</td>\n",
       "      <td>0.411</td>\n",
       "      <td>0.023</td>\n",
       "      <td>0.053</td>\n",
       "      <td>0.117</td>\n",
       "      <td>...</td>\n",
       "      <td>0.000</td>\n",
       "      <td>0.012</td>\n",
       "      <td>0.012</td>\n",
       "      <td>0.012</td>\n",
       "      <td>0.147</td>\n",
       "      <td>0.029</td>\n",
       "      <td>0.094</td>\n",
       "      <td>0.129</td>\n",
       "      <td>0.270</td>\n",
       "      <td>0.000</td>\n",
       "    </tr>\n",
       "    <tr>\n",
       "      <th>13</th>\n",
       "      <td>Hamilton</td>\n",
       "      <td>Hamilton_fed_12.txt</td>\n",
       "      <td>0.305</td>\n",
       "      <td>0.047</td>\n",
       "      <td>0.007</td>\n",
       "      <td>0.068</td>\n",
       "      <td>0.386</td>\n",
       "      <td>0.047</td>\n",
       "      <td>0.102</td>\n",
       "      <td>0.108</td>\n",
       "      <td>...</td>\n",
       "      <td>0.000</td>\n",
       "      <td>0.000</td>\n",
       "      <td>0.007</td>\n",
       "      <td>0.000</td>\n",
       "      <td>0.156</td>\n",
       "      <td>0.007</td>\n",
       "      <td>0.074</td>\n",
       "      <td>0.122</td>\n",
       "      <td>0.149</td>\n",
       "      <td>0.000</td>\n",
       "    </tr>\n",
       "    <tr>\n",
       "      <th>14</th>\n",
       "      <td>Hamilton</td>\n",
       "      <td>Hamilton_fed_13.txt</td>\n",
       "      <td>0.391</td>\n",
       "      <td>0.045</td>\n",
       "      <td>0.015</td>\n",
       "      <td>0.030</td>\n",
       "      <td>0.270</td>\n",
       "      <td>0.045</td>\n",
       "      <td>0.060</td>\n",
       "      <td>0.090</td>\n",
       "      <td>...</td>\n",
       "      <td>0.000</td>\n",
       "      <td>0.000</td>\n",
       "      <td>0.000</td>\n",
       "      <td>0.045</td>\n",
       "      <td>0.165</td>\n",
       "      <td>0.045</td>\n",
       "      <td>0.135</td>\n",
       "      <td>0.150</td>\n",
       "      <td>0.210</td>\n",
       "      <td>0.000</td>\n",
       "    </tr>\n",
       "    <tr>\n",
       "      <th>15</th>\n",
       "      <td>Hamilton</td>\n",
       "      <td>Hamilton_fed_15.txt</td>\n",
       "      <td>0.327</td>\n",
       "      <td>0.096</td>\n",
       "      <td>0.000</td>\n",
       "      <td>0.086</td>\n",
       "      <td>0.356</td>\n",
       "      <td>0.014</td>\n",
       "      <td>0.086</td>\n",
       "      <td>0.072</td>\n",
       "      <td>...</td>\n",
       "      <td>0.014</td>\n",
       "      <td>0.038</td>\n",
       "      <td>0.014</td>\n",
       "      <td>0.019</td>\n",
       "      <td>0.264</td>\n",
       "      <td>0.029</td>\n",
       "      <td>0.091</td>\n",
       "      <td>0.086</td>\n",
       "      <td>0.062</td>\n",
       "      <td>0.010</td>\n",
       "    </tr>\n",
       "  </tbody>\n",
       "</table>\n",
       "<p>5 rows × 72 columns</p>\n",
       "</div>"
      ],
      "text/plain": [
       "      author             filename      a    all   also     an    and    any  \\\n",
       "11  Hamilton   Hamilton_fed_1.txt  0.213  0.083  0.000  0.083  0.343  0.056   \n",
       "12  Hamilton  Hamilton_fed_11.txt  0.369  0.070  0.006  0.076  0.411  0.023   \n",
       "13  Hamilton  Hamilton_fed_12.txt  0.305  0.047  0.007  0.068  0.386  0.047   \n",
       "14  Hamilton  Hamilton_fed_13.txt  0.391  0.045  0.015  0.030  0.270  0.045   \n",
       "15  Hamilton  Hamilton_fed_15.txt  0.327  0.096  0.000  0.086  0.356  0.014   \n",
       "\n",
       "      are     as  ...    was   were   what   when  which    who   will   with  \\\n",
       "11  0.111  0.093  ...  0.000  0.000  0.000  0.009  0.158  0.074  0.222  0.046   \n",
       "12  0.053  0.117  ...  0.000  0.012  0.012  0.012  0.147  0.029  0.094  0.129   \n",
       "13  0.102  0.108  ...  0.000  0.000  0.007  0.000  0.156  0.007  0.074  0.122   \n",
       "14  0.060  0.090  ...  0.000  0.000  0.000  0.045  0.165  0.045  0.135  0.150   \n",
       "15  0.086  0.072  ...  0.014  0.038  0.014  0.019  0.264  0.029  0.091  0.086   \n",
       "\n",
       "    would   your  \n",
       "11  0.019  0.074  \n",
       "12  0.270  0.000  \n",
       "13  0.149  0.000  \n",
       "14  0.210  0.000  \n",
       "15  0.062  0.010  \n",
       "\n",
       "[5 rows x 72 columns]"
      ]
     },
     "execution_count": 9,
     "metadata": {},
     "output_type": "execute_result"
    }
   ],
   "source": [
    "#Verifying if HM is same as Hamilton\n",
    "\n",
    "data.loc[data['author'] =='Hamilton'].head()"
   ]
  },
  {
   "cell_type": "code",
   "execution_count": 10,
   "id": "1e689956",
   "metadata": {},
   "outputs": [
    {
     "data": {
      "text/html": [
       "<div>\n",
       "<style scoped>\n",
       "    .dataframe tbody tr th:only-of-type {\n",
       "        vertical-align: middle;\n",
       "    }\n",
       "\n",
       "    .dataframe tbody tr th {\n",
       "        vertical-align: top;\n",
       "    }\n",
       "\n",
       "    .dataframe thead th {\n",
       "        text-align: right;\n",
       "    }\n",
       "</style>\n",
       "<table border=\"1\" class=\"dataframe\">\n",
       "  <thead>\n",
       "    <tr style=\"text-align: right;\">\n",
       "      <th></th>\n",
       "      <th>author</th>\n",
       "      <th>filename</th>\n",
       "      <th>a</th>\n",
       "      <th>all</th>\n",
       "      <th>also</th>\n",
       "      <th>an</th>\n",
       "      <th>and</th>\n",
       "      <th>any</th>\n",
       "      <th>are</th>\n",
       "      <th>as</th>\n",
       "      <th>...</th>\n",
       "      <th>was</th>\n",
       "      <th>were</th>\n",
       "      <th>what</th>\n",
       "      <th>when</th>\n",
       "      <th>which</th>\n",
       "      <th>who</th>\n",
       "      <th>will</th>\n",
       "      <th>with</th>\n",
       "      <th>would</th>\n",
       "      <th>your</th>\n",
       "    </tr>\n",
       "  </thead>\n",
       "  <tbody>\n",
       "    <tr>\n",
       "      <th>62</th>\n",
       "      <td>HM</td>\n",
       "      <td>HM_fed_18.txt</td>\n",
       "      <td>0.229</td>\n",
       "      <td>0.040</td>\n",
       "      <td>0.000</td>\n",
       "      <td>0.034</td>\n",
       "      <td>0.532</td>\n",
       "      <td>0.013</td>\n",
       "      <td>0.013</td>\n",
       "      <td>0.081</td>\n",
       "      <td>...</td>\n",
       "      <td>0.189</td>\n",
       "      <td>0.108</td>\n",
       "      <td>0.000</td>\n",
       "      <td>0.020</td>\n",
       "      <td>0.081</td>\n",
       "      <td>0.074</td>\n",
       "      <td>0.007</td>\n",
       "      <td>0.074</td>\n",
       "      <td>0.040</td>\n",
       "      <td>0.0</td>\n",
       "    </tr>\n",
       "    <tr>\n",
       "      <th>63</th>\n",
       "      <td>HM</td>\n",
       "      <td>HM_fed_19.txt</td>\n",
       "      <td>0.186</td>\n",
       "      <td>0.034</td>\n",
       "      <td>0.000</td>\n",
       "      <td>0.062</td>\n",
       "      <td>0.566</td>\n",
       "      <td>0.041</td>\n",
       "      <td>0.117</td>\n",
       "      <td>0.069</td>\n",
       "      <td>...</td>\n",
       "      <td>0.090</td>\n",
       "      <td>0.034</td>\n",
       "      <td>0.007</td>\n",
       "      <td>0.000</td>\n",
       "      <td>0.214</td>\n",
       "      <td>0.041</td>\n",
       "      <td>0.007</td>\n",
       "      <td>0.145</td>\n",
       "      <td>0.028</td>\n",
       "      <td>0.0</td>\n",
       "    </tr>\n",
       "    <tr>\n",
       "      <th>64</th>\n",
       "      <td>HM</td>\n",
       "      <td>HM_fed_20.txt</td>\n",
       "      <td>0.225</td>\n",
       "      <td>0.054</td>\n",
       "      <td>0.018</td>\n",
       "      <td>0.045</td>\n",
       "      <td>0.494</td>\n",
       "      <td>0.000</td>\n",
       "      <td>0.117</td>\n",
       "      <td>0.090</td>\n",
       "      <td>...</td>\n",
       "      <td>0.063</td>\n",
       "      <td>0.000</td>\n",
       "      <td>0.000</td>\n",
       "      <td>0.027</td>\n",
       "      <td>0.117</td>\n",
       "      <td>0.027</td>\n",
       "      <td>0.036</td>\n",
       "      <td>0.072</td>\n",
       "      <td>0.009</td>\n",
       "      <td>0.0</td>\n",
       "    </tr>\n",
       "  </tbody>\n",
       "</table>\n",
       "<p>3 rows × 72 columns</p>\n",
       "</div>"
      ],
      "text/plain": [
       "   author       filename      a    all   also     an    and    any    are  \\\n",
       "62     HM  HM_fed_18.txt  0.229  0.040  0.000  0.034  0.532  0.013  0.013   \n",
       "63     HM  HM_fed_19.txt  0.186  0.034  0.000  0.062  0.566  0.041  0.117   \n",
       "64     HM  HM_fed_20.txt  0.225  0.054  0.018  0.045  0.494  0.000  0.117   \n",
       "\n",
       "       as  ...    was   were   what   when  which    who   will   with  would  \\\n",
       "62  0.081  ...  0.189  0.108  0.000  0.020  0.081  0.074  0.007  0.074  0.040   \n",
       "63  0.069  ...  0.090  0.034  0.007  0.000  0.214  0.041  0.007  0.145  0.028   \n",
       "64  0.090  ...  0.063  0.000  0.000  0.027  0.117  0.027  0.036  0.072  0.009   \n",
       "\n",
       "    your  \n",
       "62   0.0  \n",
       "63   0.0  \n",
       "64   0.0  \n",
       "\n",
       "[3 rows x 72 columns]"
      ]
     },
     "execution_count": 10,
     "metadata": {},
     "output_type": "execute_result"
    }
   ],
   "source": [
    "data.loc[data['author'] =='HM']\n",
    "#Both author's documents are stored under different file names so we can't assume they are the same"
   ]
  },
  {
   "cell_type": "markdown",
   "id": "c9fa9865",
   "metadata": {},
   "source": [
    "## Data Manipulation"
   ]
  },
  {
   "cell_type": "markdown",
   "id": "9ca4b5bd",
   "metadata": {},
   "source": [
    "Subsetting the dataset to isolate data of files authored by only Hamilton, Madison and disputed articles"
   ]
  },
  {
   "cell_type": "code",
   "execution_count": 11,
   "id": "68ca351f",
   "metadata": {},
   "outputs": [
    {
     "data": {
      "text/plain": [
       "(77, 72)"
      ]
     },
     "execution_count": 11,
     "metadata": {},
     "output_type": "execute_result"
    }
   ],
   "source": [
    "\n",
    "essay_data = data.loc[(data['author'] =='Hamilton') | (data['author'] == 'Madison') | (data['author'] == 'dispt')]\n",
    "essay_data.shape"
   ]
  },
  {
   "cell_type": "code",
   "execution_count": 13,
   "id": "0f50380f",
   "metadata": {},
   "outputs": [
    {
     "data": {
      "text/plain": [
       "['Hamilton', 'Madison']"
      ]
     },
     "execution_count": 13,
     "metadata": {},
     "output_type": "execute_result"
    }
   ],
   "source": [
    "#author = essay_data.author.unique()\n",
    "author = ['Hamilton','Madison']\n",
    "author"
   ]
  },
  {
   "cell_type": "code",
   "execution_count": 14,
   "id": "2cb118d5",
   "metadata": {},
   "outputs": [],
   "source": [
    "#Remove columns filename and author \n",
    "essay_data = essay_data.drop(columns = ['filename','author'])\n"
   ]
  },
  {
   "cell_type": "code",
   "execution_count": 15,
   "id": "4ce47001",
   "metadata": {},
   "outputs": [
    {
     "data": {
      "text/html": [
       "<div>\n",
       "<style scoped>\n",
       "    .dataframe tbody tr th:only-of-type {\n",
       "        vertical-align: middle;\n",
       "    }\n",
       "\n",
       "    .dataframe tbody tr th {\n",
       "        vertical-align: top;\n",
       "    }\n",
       "\n",
       "    .dataframe thead th {\n",
       "        text-align: right;\n",
       "    }\n",
       "</style>\n",
       "<table border=\"1\" class=\"dataframe\">\n",
       "  <thead>\n",
       "    <tr style=\"text-align: right;\">\n",
       "      <th></th>\n",
       "      <th>a</th>\n",
       "      <th>all</th>\n",
       "      <th>also</th>\n",
       "      <th>an</th>\n",
       "      <th>and</th>\n",
       "      <th>any</th>\n",
       "      <th>are</th>\n",
       "      <th>as</th>\n",
       "      <th>at</th>\n",
       "      <th>be</th>\n",
       "      <th>...</th>\n",
       "      <th>was</th>\n",
       "      <th>were</th>\n",
       "      <th>what</th>\n",
       "      <th>when</th>\n",
       "      <th>which</th>\n",
       "      <th>who</th>\n",
       "      <th>will</th>\n",
       "      <th>with</th>\n",
       "      <th>would</th>\n",
       "      <th>your</th>\n",
       "    </tr>\n",
       "  </thead>\n",
       "  <tbody>\n",
       "    <tr>\n",
       "      <th>0</th>\n",
       "      <td>0.280</td>\n",
       "      <td>0.052</td>\n",
       "      <td>0.009</td>\n",
       "      <td>0.096</td>\n",
       "      <td>0.358</td>\n",
       "      <td>0.026</td>\n",
       "      <td>0.131</td>\n",
       "      <td>0.122</td>\n",
       "      <td>0.017</td>\n",
       "      <td>0.411</td>\n",
       "      <td>...</td>\n",
       "      <td>0.009</td>\n",
       "      <td>0.017</td>\n",
       "      <td>0.000</td>\n",
       "      <td>0.009</td>\n",
       "      <td>0.175</td>\n",
       "      <td>0.044</td>\n",
       "      <td>0.009</td>\n",
       "      <td>0.087</td>\n",
       "      <td>0.192</td>\n",
       "      <td>0.0</td>\n",
       "    </tr>\n",
       "    <tr>\n",
       "      <th>1</th>\n",
       "      <td>0.177</td>\n",
       "      <td>0.063</td>\n",
       "      <td>0.013</td>\n",
       "      <td>0.038</td>\n",
       "      <td>0.393</td>\n",
       "      <td>0.063</td>\n",
       "      <td>0.051</td>\n",
       "      <td>0.139</td>\n",
       "      <td>0.114</td>\n",
       "      <td>0.393</td>\n",
       "      <td>...</td>\n",
       "      <td>0.051</td>\n",
       "      <td>0.000</td>\n",
       "      <td>0.000</td>\n",
       "      <td>0.000</td>\n",
       "      <td>0.114</td>\n",
       "      <td>0.038</td>\n",
       "      <td>0.089</td>\n",
       "      <td>0.063</td>\n",
       "      <td>0.139</td>\n",
       "      <td>0.0</td>\n",
       "    </tr>\n",
       "    <tr>\n",
       "      <th>2</th>\n",
       "      <td>0.339</td>\n",
       "      <td>0.090</td>\n",
       "      <td>0.008</td>\n",
       "      <td>0.030</td>\n",
       "      <td>0.301</td>\n",
       "      <td>0.008</td>\n",
       "      <td>0.068</td>\n",
       "      <td>0.203</td>\n",
       "      <td>0.023</td>\n",
       "      <td>0.474</td>\n",
       "      <td>...</td>\n",
       "      <td>0.008</td>\n",
       "      <td>0.015</td>\n",
       "      <td>0.008</td>\n",
       "      <td>0.000</td>\n",
       "      <td>0.105</td>\n",
       "      <td>0.008</td>\n",
       "      <td>0.173</td>\n",
       "      <td>0.045</td>\n",
       "      <td>0.068</td>\n",
       "      <td>0.0</td>\n",
       "    </tr>\n",
       "    <tr>\n",
       "      <th>3</th>\n",
       "      <td>0.270</td>\n",
       "      <td>0.024</td>\n",
       "      <td>0.016</td>\n",
       "      <td>0.024</td>\n",
       "      <td>0.262</td>\n",
       "      <td>0.056</td>\n",
       "      <td>0.064</td>\n",
       "      <td>0.111</td>\n",
       "      <td>0.056</td>\n",
       "      <td>0.365</td>\n",
       "      <td>...</td>\n",
       "      <td>0.087</td>\n",
       "      <td>0.079</td>\n",
       "      <td>0.008</td>\n",
       "      <td>0.024</td>\n",
       "      <td>0.167</td>\n",
       "      <td>0.000</td>\n",
       "      <td>0.079</td>\n",
       "      <td>0.079</td>\n",
       "      <td>0.064</td>\n",
       "      <td>0.0</td>\n",
       "    </tr>\n",
       "    <tr>\n",
       "      <th>4</th>\n",
       "      <td>0.303</td>\n",
       "      <td>0.054</td>\n",
       "      <td>0.027</td>\n",
       "      <td>0.034</td>\n",
       "      <td>0.404</td>\n",
       "      <td>0.040</td>\n",
       "      <td>0.128</td>\n",
       "      <td>0.148</td>\n",
       "      <td>0.013</td>\n",
       "      <td>0.344</td>\n",
       "      <td>...</td>\n",
       "      <td>0.027</td>\n",
       "      <td>0.020</td>\n",
       "      <td>0.020</td>\n",
       "      <td>0.007</td>\n",
       "      <td>0.155</td>\n",
       "      <td>0.027</td>\n",
       "      <td>0.168</td>\n",
       "      <td>0.074</td>\n",
       "      <td>0.040</td>\n",
       "      <td>0.0</td>\n",
       "    </tr>\n",
       "  </tbody>\n",
       "</table>\n",
       "<p>5 rows × 70 columns</p>\n",
       "</div>"
      ],
      "text/plain": [
       "       a    all   also     an    and    any    are     as     at     be  ...  \\\n",
       "0  0.280  0.052  0.009  0.096  0.358  0.026  0.131  0.122  0.017  0.411  ...   \n",
       "1  0.177  0.063  0.013  0.038  0.393  0.063  0.051  0.139  0.114  0.393  ...   \n",
       "2  0.339  0.090  0.008  0.030  0.301  0.008  0.068  0.203  0.023  0.474  ...   \n",
       "3  0.270  0.024  0.016  0.024  0.262  0.056  0.064  0.111  0.056  0.365  ...   \n",
       "4  0.303  0.054  0.027  0.034  0.404  0.040  0.128  0.148  0.013  0.344  ...   \n",
       "\n",
       "     was   were   what   when  which    who   will   with  would  your  \n",
       "0  0.009  0.017  0.000  0.009  0.175  0.044  0.009  0.087  0.192   0.0  \n",
       "1  0.051  0.000  0.000  0.000  0.114  0.038  0.089  0.063  0.139   0.0  \n",
       "2  0.008  0.015  0.008  0.000  0.105  0.008  0.173  0.045  0.068   0.0  \n",
       "3  0.087  0.079  0.008  0.024  0.167  0.000  0.079  0.079  0.064   0.0  \n",
       "4  0.027  0.020  0.020  0.007  0.155  0.027  0.168  0.074  0.040   0.0  \n",
       "\n",
       "[5 rows x 70 columns]"
      ]
     },
     "execution_count": 15,
     "metadata": {},
     "output_type": "execute_result"
    }
   ],
   "source": [
    "essay_data.head()"
   ]
  },
  {
   "cell_type": "markdown",
   "id": "ec705767",
   "metadata": {},
   "source": [
    "## Scaling the data\n",
    "\n",
    "Scaling is used for making data points generalized so that the distance between them will be lower."
   ]
  },
  {
   "cell_type": "code",
   "execution_count": 16,
   "id": "97ecb43e",
   "metadata": {},
   "outputs": [],
   "source": [
    "# Using StandardScaler from sklearn\n",
    "scaler = StandardScaler()\n",
    "scaled_features = scaler.fit_transform(essay_data)\n",
    "scaled_features = pd.DataFrame(scaled_features)"
   ]
  },
  {
   "cell_type": "markdown",
   "id": "6f1d58ef",
   "metadata": {},
   "source": [
    "## K-means\n",
    "\n",
    "The objective of K-means is to group similar data points together and discover underlying patterns. To achieve this objective, K-means looks for a fixed number (k) of clusters in a dataset."
   ]
  },
  {
   "cell_type": "markdown",
   "id": "4d84ab78",
   "metadata": {},
   "source": [
    "Identifying k-value for clusters by plotting an 'Elbow' curve.\n",
    "The elbow method consists of plotting the explained variation(Inertia) as a function of the number of clusters, and picking the elbow of the curve as the number of clusters to use."
   ]
  },
  {
   "cell_type": "code",
   "execution_count": 1,
   "id": "52c0ab75",
   "metadata": {},
   "outputs": [
    {
     "ename": "NameError",
     "evalue": "name 'KMeans' is not defined",
     "output_type": "error",
     "traceback": [
      "\u001b[0;31m---------------------------------------------------------------------------\u001b[0m",
      "\u001b[0;31mNameError\u001b[0m                                 Traceback (most recent call last)",
      "\u001b[0;32m/var/folders/bf/9n535v417t73kjz5x95xkkth0000gn/T/ipykernel_86833/411175181.py\u001b[0m in \u001b[0;36m<module>\u001b[0;34m\u001b[0m\n\u001b[1;32m      1\u001b[0m \u001b[0minertia\u001b[0m \u001b[0;34m=\u001b[0m \u001b[0;34m[\u001b[0m\u001b[0;34m]\u001b[0m\u001b[0;34m\u001b[0m\u001b[0;34m\u001b[0m\u001b[0m\n\u001b[1;32m      2\u001b[0m \u001b[0;32mfor\u001b[0m \u001b[0mi\u001b[0m \u001b[0;32min\u001b[0m \u001b[0mrange\u001b[0m\u001b[0;34m(\u001b[0m\u001b[0;36m1\u001b[0m\u001b[0;34m,\u001b[0m\u001b[0;36m11\u001b[0m\u001b[0;34m)\u001b[0m\u001b[0;34m:\u001b[0m\u001b[0;34m\u001b[0m\u001b[0;34m\u001b[0m\u001b[0m\n\u001b[0;32m----> 3\u001b[0;31m     kmeans = KMeans(\n\u001b[0m\u001b[1;32m      4\u001b[0m         \u001b[0mn_clusters\u001b[0m\u001b[0;34m=\u001b[0m\u001b[0mi\u001b[0m\u001b[0;34m,\u001b[0m \u001b[0minit\u001b[0m\u001b[0;34m=\u001b[0m\u001b[0;34m\"k-means++\"\u001b[0m\u001b[0;34m,\u001b[0m\u001b[0;34m\u001b[0m\u001b[0;34m\u001b[0m\u001b[0m\n\u001b[1;32m      5\u001b[0m         \u001b[0mn_init\u001b[0m\u001b[0;34m=\u001b[0m\u001b[0;36m10\u001b[0m\u001b[0;34m,\u001b[0m\u001b[0;34m\u001b[0m\u001b[0;34m\u001b[0m\u001b[0m\n",
      "\u001b[0;31mNameError\u001b[0m: name 'KMeans' is not defined"
     ]
    }
   ],
   "source": [
    "inertia = []\n",
    "for i in range(1,11):\n",
    "    kmeans = KMeans(\n",
    "        n_clusters=i, init=\"k-means++\",\n",
    "        n_init=10,\n",
    "        tol=1e-04, random_state=42\n",
    "    )\n",
    "    kmeans.fit(scaled_features)\n",
    "    inertia.append(kmeans.inertia_)\n",
    "fig = go.Figure(data=go.Scatter(x=np.arange(1,11),y=inertia))\n",
    "fig.update_layout(title=\"Inertia vs Cluster Number\",xaxis=dict(range=[0,11],title=\"Cluster Number\"),\n",
    "                  yaxis={'title':'Inertia'},\n",
    "                 annotations=[\n",
    "        dict(\n",
    "            x=3,\n",
    "            y=inertia[2],\n",
    "            xref=\"x\",\n",
    "            yref=\"y\",\n",
    "            text=\"Elbow!\",\n",
    "            showarrow=True,\n",
    "            arrowhead=7,\n",
    "            ax=20,\n",
    "            ay=-40\n",
    "        )\n",
    "    ])"
   ]
  },
  {
   "cell_type": "markdown",
   "id": "b73206da",
   "metadata": {},
   "source": [
    "The elbow is at 3 so the number of clusters can be taken as 3 i.e. k=3"
   ]
  },
  {
   "cell_type": "markdown",
   "id": "37755be7",
   "metadata": {},
   "source": [
    "## Principal Component Analysis"
   ]
  },
  {
   "cell_type": "code",
   "execution_count": null,
   "id": "b01af83a",
   "metadata": {},
   "outputs": [],
   "source": [
    "#Performing PCA for dimensionality reduction"
   ]
  },
  {
   "cell_type": "markdown",
   "id": "8526e221",
   "metadata": {},
   "source": [
    "Principal component analysis (PCA) is a technique for reducing the dimensionality of datasets, increasing interpretability but at the same time minimizing information loss. "
   ]
  },
  {
   "cell_type": "code",
   "execution_count": 191,
   "id": "01532977",
   "metadata": {},
   "outputs": [
    {
     "data": {
      "text/plain": [
       "(77, 2)"
      ]
     },
     "execution_count": 191,
     "metadata": {},
     "output_type": "execute_result"
    }
   ],
   "source": [
    "from sklearn import decomposition\n",
    "from sklearn.decomposition import PCA\n",
    "\n",
    "# Using PCA from sklearn PCA\n",
    "pca = decomposition.PCA(n_components=2)\n",
    "X_centered = scaled_features - scaled_features.mean(axis=0)\n",
    "pca.fit(X_centered)\n",
    "X_pca = pca.transform(X_centered)\n",
    "\n",
    "X_pca.shape"
   ]
  },
  {
   "cell_type": "markdown",
   "id": "17db3088",
   "metadata": {},
   "source": [
    "Plotting the two components obtained after performing PCA"
   ]
  },
  {
   "cell_type": "code",
   "execution_count": 193,
   "id": "06306d4e",
   "metadata": {},
   "outputs": [
    {
     "data": {
      "text/plain": [
       "<matplotlib.legend.Legend at 0x7f89a0846340>"
      ]
     },
     "execution_count": 193,
     "metadata": {},
     "output_type": "execute_result"
    },
    {
     "data": {
      "image/png": "[encoded data removed]",
      "text/plain": [
       "<Figure size 432x432 with 1 Axes>"
      ]
     },
     "metadata": {
      "needs_background": "light"
     },
     "output_type": "display_data"
    }
   ],
   "source": [
    "import seaborn as sns\n",
    "\n",
    "fig, ax = plt.subplots(figsize=(6, 6))\n",
    "\n",
    "mpl.rcParams['font.size'] = 15\n",
    "mpl.rcParams['axes.linewidth'] = 1\n",
    "\n",
    "sns.scatterplot(x=X_pca[:,0], y=X_pca[:,1], hue=y, palette='rainbow', ax=ax)\n",
    "\n",
    "ax.set_xlabel(\"First Component\", fontsize=20)\n",
    "ax.set_ylabel(\"Second Component\", fontsize=20)\n",
    "\n",
    "ax.legend(frameon=False, \n",
    "          loc= 1, \n",
    "          bbox_to_anchor=(1.3, 1), \n",
    "          fontsize=20)"
   ]
  },
  {
   "cell_type": "markdown",
   "id": "a6a22558",
   "metadata": {},
   "source": [
    "Create kmeans model and fit data obtained after dimensionality reduction to the model"
   ]
  },
  {
   "cell_type": "code",
   "execution_count": 192,
   "id": "399de09f",
   "metadata": {},
   "outputs": [],
   "source": [
    "k = 3\n",
    "kmeans = KMeans(n_clusters=k, random_state=42)\n",
    "y = kmeans.fit_predict(X_pca)"
   ]
  },
  {
   "cell_type": "markdown",
   "id": "ad51c273",
   "metadata": {},
   "source": [
    "Create new dataframe with original features and add PCA component scores and assigned clusters"
   ]
  },
  {
   "cell_type": "code",
   "execution_count": 205,
   "id": "36bda745",
   "metadata": {},
   "outputs": [
    {
     "data": {
      "text/plain": [
       "2    9\n",
       "1    2\n",
       "Name: Segment K-means PCA, dtype: int64"
      ]
     },
     "execution_count": 205,
     "metadata": {},
     "output_type": "execute_result"
    }
   ],
   "source": [
    "df_pca_kmeans  = pd.concat([og_data.reset_index(drop=True),pd.DataFrame(X_pca)],axis=1)\n",
    "\n",
    "df_pca_kmeans.columns.values[-2:] = ['Component 1', 'Component 2']\n",
    "\n",
    "df_pca_kmeans['Segment K-means PCA'] = kmeans.labels_\n",
    "\n",
    "s = df_pca_kmeans.loc[df_pca_kmeans['author']=='dispt']\n",
    "\n",
    "s['Segment K-means PCA'].value_counts()\n"
   ]
  },
  {
   "cell_type": "markdown",
   "id": "8f0e7a8e",
   "metadata": {},
   "source": []
  },
  {
   "cell_type": "code",
   "execution_count": 197,
   "id": "8a39fe3f",
   "metadata": {},
   "outputs": [
    {
     "name": "stderr",
     "output_type": "stream",
     "text": [
      "/Users/anjali/opt/anaconda3/lib/python3.9/site-packages/seaborn/_decorators.py:36: FutureWarning:\n",
      "\n",
      "Pass the following variables as keyword args: x, y. From version 0.12, the only valid positional argument will be `data`, and passing other arguments without an explicit keyword will result in an error or misinterpretation.\n",
      "\n"
     ]
    },
    {
     "data": {
      "image/png": "[encoded data removed]",
      "text/plain": [
       "<Figure size 720x576 with 1 Axes>"
      ]
     },
     "metadata": {
      "needs_background": "light"
     },
     "output_type": "display_data"
    }
   ],
   "source": [
    "\n",
    "df_pca_kmeans['Segment'] = df_pca_kmeans['Segment K-means PCA'].map({0:'Hamilton',1:'dispt',2:'Madison'})\n",
    "\n",
    "\n",
    "x_axis = df_pca_kmeans['Component 1']\n",
    "y_axis = df_pca_kmeans['Component 2']\n",
    "plt.figure(figsize=(10,8))\n",
    "\n",
    "sns.scatterplot(x_axis,y_axis,hue= df_pca_kmeans['Segment'], palette = 'rainbow')\n",
    "plt.show()"
   ]
  },
  {
   "cell_type": "markdown",
   "id": "c3ca2399",
   "metadata": {},
   "source": [
    "From this output we can see that the disputed articles cluster is closer to the Madison articles\n",
    "cluster and hence we can conclud the disputed article were written by Madison."
   ]
  },
  {
   "cell_type": "markdown",
   "id": "4e2d95e3",
   "metadata": {},
   "source": [
    "## Madison!"
   ]
  },
  {
   "cell_type": "markdown",
   "id": "ee758f7b",
   "metadata": {},
   "source": [
    "## HCA\n",
    "\n"
   ]
  },
  {
   "cell_type": "code",
   "execution_count": 210,
   "id": "50e29d21",
   "metadata": {},
   "outputs": [],
   "source": [
    "# Import the dendrogram function and the ward clustering function from SciPy\n",
    "from scipy.cluster.hierarchy import dendrogram, ward\n",
    "from scipy.cluster.hierarchy import dendrogram, linkage\n",
    "from sklearn.datasets import make_blobs\n",
    "from scipy.cluster.hierarchy import dendrogram\n",
    "from sklearn.cluster import AgglomerativeClustering"
   ]
  },
  {
   "cell_type": "code",
   "execution_count": 227,
   "id": "caaa5e0f",
   "metadata": {},
   "outputs": [
    {
     "data": {
      "text/plain": [
       "Text(0, 0.5, 'Cluster distance')"
      ]
     },
     "execution_count": 227,
     "metadata": {},
     "output_type": "execute_result"
    },
    {
     "data": {
      "image/png": "[encoded data removed]",
      "text/plain": [
       "<Figure size 1152x576 with 1 Axes>"
      ]
     },
     "metadata": {
      "needs_background": "light"
     },
     "output_type": "display_data"
    }
   ],
   "source": [
    "#Plotting dendograms\n",
    "\n",
    "X = X_pca\n",
    "linkage_array = linkage(X,'ward')\n",
    "# Now we plot the dendrogram for the linkage_array containing the distances\n",
    "# between clusters\n",
    "\n",
    "# mark the cuts in the tree that signify two or three clusters\n",
    "plt.figure(figsize=(16, 8))\n",
    "\n",
    "dendrogram(linkage_array,truncate_mode=\"level\",p=5)\n",
    "\n",
    "plt.xlabel(\"Sample index\")\n",
    "plt.ylabel(\"Cluster distance\")"
   ]
  },
  {
   "cell_type": "code",
   "execution_count": 232,
   "id": "8eb18a94",
   "metadata": {},
   "outputs": [],
   "source": [
    "# setting distance_threshold=0 ensures we compute the full tree.\n",
    "model = AgglomerativeClustering(n_clusters=3)\n",
    "\n",
    "model = model.fit(X)\n",
    "\n",
    "model.fit_predict(X)\n",
    "labels = model.labels_"
   ]
  },
  {
   "cell_type": "code",
   "execution_count": 233,
   "id": "1f4b733c",
   "metadata": {},
   "outputs": [
    {
     "data": {
      "image/png": "[encoded data removed]",
      "text/plain": [
       "<Figure size 432x288 with 1 Axes>"
      ]
     },
     "metadata": {
      "needs_background": "light"
     },
     "output_type": "display_data"
    }
   ],
   "source": [
    "plt.scatter(X[labels==0, 0], X[labels==0, 1], s=50, marker='o', color='red')\n",
    "plt.scatter(X[labels==1, 0], X[labels==1, 1], s=50, marker='o', color='blue')\n",
    "plt.scatter(X[labels==2, 0], X[labels==2, 1], s=50, marker='o', color='green')\n",
    "plt.show()"
   ]
  },
  {
   "cell_type": "code",
   "execution_count": 234,
   "id": "29f433be",
   "metadata": {},
   "outputs": [],
   "source": [
    "# setting distance_threshold=0 ensures we compute the full tree.\n",
    "model = AgglomerativeClustering(n_clusters=2)\n",
    "\n",
    "model = model.fit(X)\n",
    "\n",
    "model.fit_predict(X)\n",
    "labels = model.labels_"
   ]
  },
  {
   "cell_type": "code",
   "execution_count": 235,
   "id": "b5822329",
   "metadata": {},
   "outputs": [
    {
     "data": {
      "image/png": "[encoded data removed]",
      "text/plain": [
       "<Figure size 432x288 with 1 Axes>"
      ]
     },
     "metadata": {
      "needs_background": "light"
     },
     "output_type": "display_data"
    }
   ],
   "source": [
    "plt.scatter(X[labels==0, 0], X[labels==0, 1], s=50, marker='o', color='red')\n",
    "plt.scatter(X[labels==1, 0], X[labels==1, 1], s=50, marker='o', color='blue')\n",
    "#plt.scatter(X[labels==2, 0], X[labels==2, 1], s=50, marker='o', color='green')\n",
    "plt.show()"
   ]
  },
  {
   "cell_type": "markdown",
   "id": "207414c3",
   "metadata": {},
   "source": [
    "For the joint authored essays we subset the original data again,scale and apply pca to it and finally \n",
    "apply HCA model"
   ]
  },
  {
   "cell_type": "code",
   "execution_count": 238,
   "id": "039e3bae",
   "metadata": {},
   "outputs": [],
   "source": [
    "#Where are joint authored essays located?\n",
    "\n",
    "joint_auth = data[data['author']!='Jay']\n",
    "joint_auth = joint_auth.drop(columns = ['filename','author'])\n",
    "\n",
    "#Scaling\n",
    "\n",
    "scaler = StandardScaler()\n",
    "scaled_features2 = scaler.fit_transform(joint_auth)\n",
    "scaled_features2 = pd.DataFrame(scaled_features2)"
   ]
  },
  {
   "cell_type": "code",
   "execution_count": 240,
   "id": "e3dd2e48",
   "metadata": {},
   "outputs": [
    {
     "data": {
      "text/html": [
       "<div>\n",
       "<style scoped>\n",
       "    .dataframe tbody tr th:only-of-type {\n",
       "        vertical-align: middle;\n",
       "    }\n",
       "\n",
       "    .dataframe tbody tr th {\n",
       "        vertical-align: top;\n",
       "    }\n",
       "\n",
       "    .dataframe thead th {\n",
       "        text-align: right;\n",
       "    }\n",
       "</style>\n",
       "<table border=\"1\" class=\"dataframe\">\n",
       "  <thead>\n",
       "    <tr style=\"text-align: right;\">\n",
       "      <th></th>\n",
       "      <th>0</th>\n",
       "      <th>1</th>\n",
       "      <th>2</th>\n",
       "      <th>3</th>\n",
       "      <th>4</th>\n",
       "      <th>5</th>\n",
       "      <th>6</th>\n",
       "      <th>7</th>\n",
       "      <th>8</th>\n",
       "      <th>9</th>\n",
       "      <th>...</th>\n",
       "      <th>60</th>\n",
       "      <th>61</th>\n",
       "      <th>62</th>\n",
       "      <th>63</th>\n",
       "      <th>64</th>\n",
       "      <th>65</th>\n",
       "      <th>66</th>\n",
       "      <th>67</th>\n",
       "      <th>68</th>\n",
       "      <th>69</th>\n",
       "    </tr>\n",
       "  </thead>\n",
       "  <tbody>\n",
       "    <tr>\n",
       "      <th>0</th>\n",
       "      <td>-0.309923</td>\n",
       "      <td>-0.079427</td>\n",
       "      <td>0.265812</td>\n",
       "      <td>0.885350</td>\n",
       "      <td>-0.076167</td>\n",
       "      <td>-0.690184</td>\n",
       "      <td>1.630826</td>\n",
       "      <td>-0.004439</td>\n",
       "      <td>-1.078797</td>\n",
       "      <td>1.259883</td>\n",
       "      <td>...</td>\n",
       "      <td>-0.580566</td>\n",
       "      <td>-0.133668</td>\n",
       "      <td>-1.159884</td>\n",
       "      <td>-0.167434</td>\n",
       "      <td>0.327748</td>\n",
       "      <td>0.547474</td>\n",
       "      <td>-1.365275</td>\n",
       "      <td>0.321235</td>\n",
       "      <td>1.344712</td>\n",
       "      <td>-0.187472</td>\n",
       "    </tr>\n",
       "    <tr>\n",
       "      <th>1</th>\n",
       "      <td>-1.789509</td>\n",
       "      <td>0.383459</td>\n",
       "      <td>0.772121</td>\n",
       "      <td>-1.175877</td>\n",
       "      <td>0.370933</td>\n",
       "      <td>0.919701</td>\n",
       "      <td>-0.765795</td>\n",
       "      <td>0.459998</td>\n",
       "      <td>2.687044</td>\n",
       "      <td>1.050363</td>\n",
       "      <td>...</td>\n",
       "      <td>0.862260</td>\n",
       "      <td>-0.979199</td>\n",
       "      <td>-1.159884</td>\n",
       "      <td>-0.864269</td>\n",
       "      <td>-1.147723</td>\n",
       "      <td>0.288059</td>\n",
       "      <td>-0.123234</td>\n",
       "      <td>-0.610444</td>\n",
       "      <td>0.567930</td>\n",
       "      <td>-0.187472</td>\n",
       "    </tr>\n",
       "    <tr>\n",
       "      <th>2</th>\n",
       "      <td>0.537607</td>\n",
       "      <td>1.519634</td>\n",
       "      <td>0.139235</td>\n",
       "      <td>-1.460184</td>\n",
       "      <td>-0.804299</td>\n",
       "      <td>-1.473371</td>\n",
       "      <td>-0.256513</td>\n",
       "      <td>2.208468</td>\n",
       "      <td>-0.845858</td>\n",
       "      <td>1.993202</td>\n",
       "      <td>...</td>\n",
       "      <td>-0.614919</td>\n",
       "      <td>-0.233143</td>\n",
       "      <td>-0.418300</td>\n",
       "      <td>-0.864269</td>\n",
       "      <td>-1.365415</td>\n",
       "      <td>-1.009017</td>\n",
       "      <td>1.180910</td>\n",
       "      <td>-1.309203</td>\n",
       "      <td>-0.472664</td>\n",
       "      <td>-0.187472</td>\n",
       "    </tr>\n",
       "    <tr>\n",
       "      <th>3</th>\n",
       "      <td>-0.453572</td>\n",
       "      <td>-1.257683</td>\n",
       "      <td>1.151853</td>\n",
       "      <td>-1.673414</td>\n",
       "      <td>-1.302496</td>\n",
       "      <td>0.615128</td>\n",
       "      <td>-0.376344</td>\n",
       "      <td>-0.304958</td>\n",
       "      <td>0.435304</td>\n",
       "      <td>0.724444</td>\n",
       "      <td>...</td>\n",
       "      <td>2.098969</td>\n",
       "      <td>2.950032</td>\n",
       "      <td>-0.418300</td>\n",
       "      <td>0.993958</td>\n",
       "      <td>0.134244</td>\n",
       "      <td>-1.354903</td>\n",
       "      <td>-0.278489</td>\n",
       "      <td>0.010675</td>\n",
       "      <td>-0.531290</td>\n",
       "      <td>-0.187472</td>\n",
       "    </tr>\n",
       "    <tr>\n",
       "      <th>4</th>\n",
       "      <td>0.020470</td>\n",
       "      <td>0.004734</td>\n",
       "      <td>2.544202</td>\n",
       "      <td>-1.318030</td>\n",
       "      <td>0.511449</td>\n",
       "      <td>-0.081038</td>\n",
       "      <td>1.540953</td>\n",
       "      <td>0.705876</td>\n",
       "      <td>-1.234089</td>\n",
       "      <td>0.480004</td>\n",
       "      <td>...</td>\n",
       "      <td>0.037788</td>\n",
       "      <td>0.015543</td>\n",
       "      <td>0.694076</td>\n",
       "      <td>-0.322286</td>\n",
       "      <td>-0.156013</td>\n",
       "      <td>-0.187535</td>\n",
       "      <td>1.103282</td>\n",
       "      <td>-0.183424</td>\n",
       "      <td>-0.883040</td>\n",
       "      <td>-0.187472</td>\n",
       "    </tr>\n",
       "  </tbody>\n",
       "</table>\n",
       "<p>5 rows × 70 columns</p>\n",
       "</div>"
      ],
      "text/plain": [
       "         0         1         2         3         4         5         6   \\\n",
       "0 -0.309923 -0.079427  0.265812  0.885350 -0.076167 -0.690184  1.630826   \n",
       "1 -1.789509  0.383459  0.772121 -1.175877  0.370933  0.919701 -0.765795   \n",
       "2  0.537607  1.519634  0.139235 -1.460184 -0.804299 -1.473371 -0.256513   \n",
       "3 -0.453572 -1.257683  1.151853 -1.673414 -1.302496  0.615128 -0.376344   \n",
       "4  0.020470  0.004734  2.544202 -1.318030  0.511449 -0.081038  1.540953   \n",
       "\n",
       "         7         8         9   ...        60        61        62        63  \\\n",
       "0 -0.004439 -1.078797  1.259883  ... -0.580566 -0.133668 -1.159884 -0.167434   \n",
       "1  0.459998  2.687044  1.050363  ...  0.862260 -0.979199 -1.159884 -0.864269   \n",
       "2  2.208468 -0.845858  1.993202  ... -0.614919 -0.233143 -0.418300 -0.864269   \n",
       "3 -0.304958  0.435304  0.724444  ...  2.098969  2.950032 -0.418300  0.993958   \n",
       "4  0.705876 -1.234089  0.480004  ...  0.037788  0.015543  0.694076 -0.322286   \n",
       "\n",
       "         64        65        66        67        68        69  \n",
       "0  0.327748  0.547474 -1.365275  0.321235  1.344712 -0.187472  \n",
       "1 -1.147723  0.288059 -0.123234 -0.610444  0.567930 -0.187472  \n",
       "2 -1.365415 -1.009017  1.180910 -1.309203 -0.472664 -0.187472  \n",
       "3  0.134244 -1.354903 -0.278489  0.010675 -0.531290 -0.187472  \n",
       "4 -0.156013 -0.187535  1.103282 -0.183424 -0.883040 -0.187472  \n",
       "\n",
       "[5 rows x 70 columns]"
      ]
     },
     "execution_count": 240,
     "metadata": {},
     "output_type": "execute_result"
    }
   ],
   "source": [
    "scaled_features2.head()"
   ]
  },
  {
   "cell_type": "code",
   "execution_count": 242,
   "id": "f83e7d42",
   "metadata": {},
   "outputs": [
    {
     "data": {
      "text/plain": [
       "(80, 2)"
      ]
     },
     "execution_count": 242,
     "metadata": {},
     "output_type": "execute_result"
    }
   ],
   "source": [
    "#PCA\n",
    "\n",
    "\n",
    "# Using PCA from sklearn PCA\n",
    "pca = decomposition.PCA(n_components=2)\n",
    "X_centered = scaled_features2 - scaled_features2.mean(axis=0)\n",
    "pca.fit(X_centered)\n",
    "X_pca2 = pca.transform(X_centered)\n",
    "X_pca2.shape"
   ]
  },
  {
   "cell_type": "code",
   "execution_count": 254,
   "id": "7b72e971",
   "metadata": {},
   "outputs": [],
   "source": [
    "X = X_pca2\n",
    "model = AgglomerativeClustering(n_clusters=3)\n",
    "\n",
    "model = model.fit(X)\n",
    "\n",
    "model.fit_predict(X)\n",
    "labels = model.labels_"
   ]
  },
  {
   "cell_type": "code",
   "execution_count": 255,
   "id": "779ea99e",
   "metadata": {},
   "outputs": [
    {
     "data": {
      "image/png": "[encoded data removed]",
      "text/plain": [
       "<Figure size 432x288 with 1 Axes>"
      ]
     },
     "metadata": {
      "needs_background": "light"
     },
     "output_type": "display_data"
    }
   ],
   "source": [
    "plt.scatter(X[labels==0, 0], X[labels==0, 1], s=50, marker='o', color='red')\n",
    "plt.scatter(X[labels==1, 0], X[labels==1, 1], s=50, marker='o', color='blue')\n",
    "plt.scatter(X[labels==2, 0], X[labels==2, 1], s=50, marker='o', color='green')\n",
    "plt.scatter(X[labels==3, 0], X[labels==3, 1], s=50, marker='o', color='yellow')\n",
    "plt.show()"
   ]
  },
  {
   "cell_type": "code",
   "execution_count": 252,
   "id": "7d413b7d",
   "metadata": {},
   "outputs": [],
   "source": [
    "X = X_pca2\n",
    "model = AgglomerativeClustering(n_clusters=2)\n",
    "\n",
    "model = model.fit(X)\n",
    "\n",
    "model.fit_predict(X)\n",
    "labels = model.labels_"
   ]
  },
  {
   "cell_type": "code",
   "execution_count": 253,
   "id": "c0a45893",
   "metadata": {},
   "outputs": [
    {
     "data": {
      "image/png": "[encoded data removed]",
      "text/plain": [
       "<Figure size 432x288 with 1 Axes>"
      ]
     },
     "metadata": {
      "needs_background": "light"
     },
     "output_type": "display_data"
    }
   ],
   "source": [
    "plt.scatter(X[labels==0, 0], X[labels==0, 1], s=50, marker='o', color='red')\n",
    "plt.scatter(X[labels==1, 0], X[labels==1, 1], s=50, marker='o', color='blue')\n",
    "plt.scatter(X[labels==2, 0], X[labels==2, 1], s=50, marker='o', color='green')\n",
    "plt.scatter(X[labels==3, 0], X[labels==3, 1], s=50, marker='o', color='yellow')\n",
    "plt.show()"
   ]
  },
  {
   "cell_type": "markdown",
   "id": "06485eb2",
   "metadata": {},
   "source": [
    "The number of clusters in this model are taken as 2 and the scatter plot of the result is created.\n",
    "Majority of the data points of the joint authored files get assigned to the Madison data point clusters meaning\n",
    "the joint authored essays are more influenced by Madison's style of writing."
   ]
  },
  {
   "cell_type": "code",
   "execution_count": null,
   "id": "dc18756f",
   "metadata": {},
   "outputs": [],
   "source": []
  }
 ],
 "metadata": {
  "kernelspec": {
   "display_name": "Python 3 (ipykernel)",
   "language": "python",
   "name": "python3"
  },
  "language_info": {
   "codemirror_mode": {
    "name": "ipython",
    "version": 3
   },
   "file_extension": ".py",
   "mimetype": "text/x-python",
   "name": "python",
   "nbconvert_exporter": "python",
   "pygments_lexer": "ipython3",
   "version": "3.9.7"
  }
 },
 "nbformat": 4,
 "nbformat_minor": 5
}
